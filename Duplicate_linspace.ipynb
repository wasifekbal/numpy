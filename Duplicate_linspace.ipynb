{
 "cells": [
  {
   "cell_type": "code",
   "execution_count": 1,
   "metadata": {},
   "outputs": [],
   "source": [
    "import numpy as np\n",
    "import inspect"
   ]
  },
  {
   "cell_type": "code",
   "execution_count": 46,
   "metadata": {},
   "outputs": [],
   "source": [
    "def linspc(start,stop,div,endpoint=True,retstep=False):\n",
    "    if div<0:\n",
    "        raise ValueError('Number of division must be greater than zero.')\n",
    "    array=[]\n",
    "    loop=div\n",
    "    if endpoint==False:\n",
    "        div=div+1\n",
    "        loop=div-1\n",
    "    steps = (stop-start)/(div-1)\n",
    "    for i in range(loop):\n",
    "        array.append(round(start,2))\n",
    "        start=start+steps\n",
    "    if retstep:\n",
    "        print(f'{array}, step = {steps}')\n",
    "    else:\n",
    "        print(array)"
   ]
  },
  {
   "cell_type": "code",
   "execution_count": 51,
   "metadata": {},
   "outputs": [
    {
     "name": "stdout",
     "output_type": "stream",
     "text": [
      "[6, 8.33, 10.67, 13.0, 15.33, 17.67, 20.0, 22.33, 24.67], step = 2.3333333333333335\n"
     ]
    }
   ],
   "source": [
    "linspc(6,27,9,retstep=True,endpoint=False)"
   ]
  },
  {
   "cell_type": "code",
   "execution_count": 50,
   "metadata": {},
   "outputs": [
    {
     "data": {
      "text/plain": [
       "(array([ 6.        ,  8.33333333, 10.66666667, 13.        , 15.33333333,\n",
       "        17.66666667, 20.        , 22.33333333, 24.66666667]),\n",
       " 2.3333333333333335)"
      ]
     },
     "execution_count": 50,
     "metadata": {},
     "output_type": "execute_result"
    }
   ],
   "source": [
    "np.linspace(6,27,9,retstep=True,endpoint=False)"
   ]
  },
  {
   "cell_type": "code",
   "execution_count": 14,
   "metadata": {},
   "outputs": [
    {
     "name": "stdout",
     "output_type": "stream",
     "text": [
      "[30, 27.0, 24.0, 21.0, 18.0, 15.0, 12.0, 9.0, 6.0, 3.0]\n"
     ]
    }
   ],
   "source": [
    "linspc(30,3,10)"
   ]
  },
  {
   "cell_type": "code",
   "execution_count": 73,
   "metadata": {},
   "outputs": [
    {
     "name": "stdout",
     "output_type": "stream",
     "text": [
      "[2, 3.875, 5.75, 7.625, 9.5, 11.375, 13.25, 15.125, 17.0]\n"
     ]
    }
   ],
   "source": [
    "start,stop,div = 2,17,9\n",
    "array=[]\n",
    "steps = (stop-start)/(div-1)\n",
    "for i in range(div):\n",
    "    array.append(start)\n",
    "    start=start+steps\n",
    "print(array)"
   ]
  },
  {
   "cell_type": "code",
   "execution_count": null,
   "metadata": {},
   "outputs": [],
   "source": []
  },
  {
   "cell_type": "code",
   "execution_count": null,
   "metadata": {},
   "outputs": [],
   "source": []
  }
 ],
 "metadata": {
  "kernelspec": {
   "display_name": "Python 3",
   "language": "python",
   "name": "python3"
  },
  "language_info": {
   "codemirror_mode": {
    "name": "ipython",
    "version": 3
   },
   "file_extension": ".py",
   "mimetype": "text/x-python",
   "name": "python",
   "nbconvert_exporter": "python",
   "pygments_lexer": "ipython3",
   "version": "3.7.4"
  }
 },
 "nbformat": 4,
 "nbformat_minor": 2
}
